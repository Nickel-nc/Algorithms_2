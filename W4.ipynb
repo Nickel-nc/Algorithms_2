{
 "cells": [
  {
   "cell_type": "markdown",
   "metadata": {},
   "source": [
    "## Algoritms #4\n",
    "## Деревья решений"
   ]
  },
  {
   "cell_type": "markdown",
   "metadata": {},
   "source": [
    "* [Реализация дерева решений для задачи регрессии](#regrtree)"
   ]
  },
  {
   "cell_type": "code",
   "execution_count": 315,
   "metadata": {},
   "outputs": [],
   "source": [
    "import random\n",
    "from matplotlib.colors import ListedColormap\n",
    "from sklearn import model_selection\n",
    "import numpy as np\n",
    "from sklearn.datasets import make_regression\n",
    "import matplotlib.pyplot as plt\n",
    "from sklearn import model_selection\n",
    "\n",
    "np.random.seed(42)\n",
    "random.seed(42)\n",
    "RANDOM_SEED = 42\n",
    "\n",
    "%matplotlib inline"
   ]
  },
  {
   "cell_type": "markdown",
   "metadata": {},
   "source": [
    "В коде из методички реализуйте один или несколько из критериев останова (количество листьев, количество используемых признаков, глубина дерева и т.д.)\n",
    "\n",
    "2*. Реализуйте дерево для задачи регрессии. Возьмите за основу дерево, реализованное в методичке, заменив механизм предсказания в листе на взятие среднего значения по выборке, и критерий Джини на дисперсию значений."
   ]
  },
  {
   "cell_type": "markdown",
   "metadata": {},
   "source": [
    "## <left>Реализация дерева решений для задачи регрессии<a class=\"anchor\" id=\"regrtree\"></a><left>"
   ]
  },
  {
   "cell_type": "code",
   "execution_count": 316,
   "metadata": {},
   "outputs": [
    {
     "data": {
      "image/png": "[encoded data removed]",
      "text/plain": [
       "<Figure size 720x432 with 1 Axes>"
      ]
     },
     "metadata": {
      "needs_background": "light"
     },
     "output_type": "display_data"
    }
   ],
   "source": [
    "# Генерация датасета с разбивкой\n",
    "\n",
    "n_train = 150        \n",
    "n_test = 1000       \n",
    "noise = 0.1\n",
    "\n",
    "def f(x):\n",
    "    x = x.ravel()\n",
    "    return np.exp(-x ** 2) + 1.5 * np.exp(-(x - 2) ** 2)\n",
    "\n",
    "def generate(n_samples, noise):\n",
    "    X = np.random.rand(n_samples) * 10 - 5\n",
    "    X = np.sort(X).ravel()\n",
    "    y = np.exp(-X ** 2) + 1.5 * np.exp(-(X - 2) ** 2) + \\\n",
    "    np.random.normal(0.0, noise, n_samples)\n",
    "    X = X.reshape((n_samples, 1))\n",
    "    return X, y\n",
    "\n",
    "\n",
    "X_train, y_train = generate(n_samples=n_train, noise=noise)\n",
    "X_test, y_test = generate(n_samples=n_test, noise=noise)\n",
    "\n",
    "plt.figure(figsize=(10, 6))\n",
    "plt.scatter(X_train, y_train, c=\"b\", s=20)\n",
    "plt.xlim([-5, 5])\n",
    "plt.title(\"Результат генерации данных\" % np.sum((y_test - reg_tree_pred) ** 2))\n",
    "plt.show()"
   ]
  },
  {
   "cell_type": "code",
   "execution_count": 317,
   "metadata": {},
   "outputs": [],
   "source": [
    "# Класс узла\n",
    "\n",
    "class Node:\n",
    "    \n",
    "    def __init__(self, index, t, true_branch, false_branch):\n",
    "        self.index = index  # индекс признака, по которому ведется сравнение с порогом в этом узле\n",
    "        self.t = t  # значение порога\n",
    "        self.true_branch = true_branch  # поддерево, удовлетворяющее условию в узле\n",
    "        self.false_branch = false_branch  # поддерево, не удовлетворяющее условию в узле\n",
    "\n",
    "        \n",
    "# Класс терминального узла (листа)\n",
    "class Leaf:\n",
    "    \n",
    "    def __init__(self, data, labels):\n",
    "        self.data = data\n",
    "        self.labels = labels  # y_true\n",
    "        self.prediction = self.predict()  # y_pred\n",
    "    \n",
    "    # Функционал дерева регрессии    \n",
    "\n",
    "    def predict(self):\n",
    "        prediction = self.labels.mean()\n",
    "        return prediction    \n",
    "\n",
    "\n",
    "# Критерий информативности дерева для регрессии\n",
    "\n",
    "def variance(labels):       \n",
    "    return np.var(labels) # возвращает дисперсию \n",
    "\n",
    "# Расчет качества\n",
    "\n",
    "def quality(left_labels, right_labels, current_var):\n",
    "\n",
    "    # доля выборки, ушедшей в левое поддерево\n",
    "    p = float(left_labels.shape[0]) / (left_labels.shape[0] + right_labels.shape[0])\n",
    "    \n",
    "    return current_var - p * variance(left_labels) - (1 - p) * variance(right_labels)\n",
    "\n",
    "\n",
    "# Разбиение датасета в узле\n",
    "\n",
    "def split(data, labels, index, t):\n",
    "    \n",
    "    left = np.where(data[:, index] <= t)\n",
    "    right = np.where(data[:, index] > t)\n",
    "        \n",
    "    true_data = data[left]\n",
    "    false_data = data[right]\n",
    "    true_labels = labels[left]\n",
    "    false_labels = labels[right]\n",
    "        \n",
    "    return true_data, false_data, true_labels, false_labels\n",
    "\n",
    "\n",
    "# Нахождение наилучшего разбиения\n",
    "\n",
    "def find_best_split(data, labels):\n",
    "    \n",
    "    #  обозначим минимальное количество объектов в узле\n",
    "    min_leaf = 5\n",
    "\n",
    "    current_var = variance(labels)\n",
    "\n",
    "    best_quality = 0\n",
    "    best_t = None\n",
    "    best_index = None\n",
    "    \n",
    "    n_features = data.shape[1]\n",
    "    \n",
    "    for index in range(n_features):\n",
    "        t_values = [row[index] for row in data]\n",
    "        \n",
    "        for t in t_values:\n",
    "            true_data, false_data, true_labels, false_labels = split(data, labels, index, t)\n",
    "            #  пропускаем разбиения, в которых в узле остается менее 5 объектов\n",
    "            if len(true_data) < min_leaf or len(false_data) < min_leaf:\n",
    "                continue\n",
    "            \n",
    "            current_quality = quality(true_labels, false_labels, current_var)\n",
    "            \n",
    "            #  выбираем порог, на котором получается максимальный прирост качества\n",
    "            if current_quality > best_quality:\n",
    "                best_quality, best_t, best_index = current_quality, t, index\n",
    "\n",
    "    return best_quality, best_t, best_index\n",
    "\n",
    "\n",
    "# Построение дерева с помощью рекурсивной функции\n",
    "\n",
    "def build_tree(data, labels, max_depth, depth=0):\n",
    "        \n",
    "    quality, t, index = find_best_split(data, labels)\n",
    "\n",
    "    #  Базовый случай - прекращаем рекурсию, когда нет прироста в качестве\n",
    "    if quality == 0 or depth >= max_depth:\n",
    "        return Leaf(data, labels)\n",
    "\n",
    "    true_data, false_data, true_labels, false_labels = split(data, labels, index, t)\n",
    "\n",
    "    # Рекурсивно строим два поддерева\n",
    "    true_branch = build_tree(true_data, true_labels, depth + 1)\n",
    "    false_branch = build_tree(false_data, false_labels, depth + 1)   \n",
    "\n",
    "\n",
    "    # Возвращаем класс узла со всеми поддеревьями, то есть целого дерева\n",
    "    return Node(index, t, true_branch, false_branch)\n",
    "\n",
    "\n",
    "# Проход объекта по дереву для его классификации\n",
    "\n",
    "def classify_object(obj, node):\n",
    "\n",
    "    #  Останавливаем рекурсию, если достигли листа\n",
    "    if isinstance(node, Leaf):\n",
    "        answer = node.prediction\n",
    "        return answer\n",
    "\n",
    "    if obj[node.index] <= node.t:\n",
    "        return classify_object(obj, node.true_branch)\n",
    "    else:\n",
    "        return classify_object(obj, node.false_branch)\n",
    "    \n",
    "# Предсказание деревом для всего датасета\n",
    "\n",
    "def predict(data, tree):\n",
    "    \n",
    "    classes = []\n",
    "    for obj in data:\n",
    "        prediction = classify_object(obj, tree)\n",
    "        classes.append(prediction)\n",
    "    return classes  "
   ]
  },
  {
   "cell_type": "code",
   "execution_count": 318,
   "metadata": {},
   "outputs": [],
   "source": [
    "# Построим дерево по обучающей выборке\n",
    "my_tree = build_tree(X_train, y_train, max_depth=5)"
   ]
  },
  {
   "cell_type": "code",
   "execution_count": 319,
   "metadata": {
    "scrolled": true
   },
   "outputs": [
    {
     "name": "stdout",
     "output_type": "stream",
     "text": [
      "Индекс 0\n",
      "Порог -1.1132271031051797\n",
      "--> True:\n",
      "  Индекс 0\n",
      "  Порог -1.6238482859637204\n",
      "  --> True:\n",
      "    Индекс 0\n",
      "    Порог -2.1906549031261924\n",
      "    --> True:\n",
      "      Индекс 0\n",
      "      Порог -4.364416497139763\n",
      "      --> True:\n",
      "        Индекс 0\n",
      "        Порог -4.685708143132658\n",
      "        --> True:\n",
      "          Прогноз: 0.0009723878174466404\n",
      "        --> False:\n",
      "          Прогноз: 0.04874048040272884\n",
      "      --> False:\n",
      "        Индекс 0\n",
      "        Порог -3.9210857300669555\n",
      "        --> True:\n",
      "          Прогноз: -0.06435797907916592\n",
      "        --> False:\n",
      "          Индекс 0\n",
      "          Порог -3.134299411139642\n",
      "          --> True:\n",
      "            Индекс 0\n",
      "            Порог -3.439813595575635\n",
      "            --> True:\n",
      "              Прогноз: 0.012402883831623076\n",
      "            --> False:\n",
      "              Прогноз: -0.04893970056740354\n",
      "          --> False:\n",
      "            Индекс 0\n",
      "            Порог -2.5070777085112503\n",
      "            --> True:\n",
      "              Прогноз: 0.00735301496198109\n",
      "            --> False:\n",
      "              Прогноз: 0.021829831287106184\n",
      "    --> False:\n",
      "      Индекс 0\n",
      "      Порог -1.9538623082662934\n",
      "      --> True:\n",
      "        Прогноз: 0.09035679127558238\n",
      "      --> False:\n",
      "        Прогноз: 0.02889561955671814\n",
      "  --> False:\n",
      "    Прогноз: 0.22406954907603674\n",
      "--> False:\n",
      "  Индекс 0\n",
      "  Порог 3.0367207689911453\n",
      "  --> True:\n",
      "    Индекс 0\n",
      "    Порог -0.43930015782964027\n",
      "    --> True:\n",
      "      Прогноз: 0.5994558457272697\n",
      "    --> False:\n",
      "      Индекс 0\n",
      "      Порог 2.5555113854304867\n",
      "      --> True:\n",
      "        Индекс 0\n",
      "        Порог 1.3755747135521315\n",
      "        --> True:\n",
      "          Индекс 0\n",
      "          Порог 0.986584841970366\n",
      "          --> True:\n",
      "            Индекс 0\n",
      "            Порог 0.4269608315824849\n",
      "            --> True:\n",
      "              Индекс 0\n",
      "              Порог 0.10747302577565776\n",
      "              --> True:\n",
      "                Прогноз: 0.9988845796141044\n",
      "              --> False:\n",
      "                Прогноз: 1.033606086718206\n",
      "            --> False:\n",
      "              Прогноз: 0.9000440119346154\n",
      "          --> False:\n",
      "            Прогноз: 1.125632323642433\n",
      "        --> False:\n",
      "          Индекс 0\n",
      "          Порог 2.0807257779604544\n",
      "          --> True:\n",
      "            Прогноз: 1.4754509211634512\n",
      "          --> False:\n",
      "            Прогноз: 1.3370614612985936\n",
      "      --> False:\n",
      "        Прогноз: 0.7937324547408615\n",
      "  --> False:\n",
      "    Индекс 0\n",
      "    Порог 3.6310342587559354\n",
      "    --> True:\n",
      "      Прогноз: 0.319914008784717\n",
      "    --> False:\n",
      "      Индекс 0\n",
      "      Порог 4.29697652342573\n",
      "      --> True:\n",
      "        Индекс 0\n",
      "        Порог 3.9482735042764876\n",
      "        --> True:\n",
      "          Прогноз: 0.03998368899931931\n",
      "        --> False:\n",
      "          Прогноз: 0.08225227094500286\n",
      "      --> False:\n",
      "        Индекс 0\n",
      "        Порог 4.624472949421111\n",
      "        --> True:\n",
      "          Прогноз: -0.016744057988112276\n",
      "        --> False:\n",
      "          Прогноз: -0.08861005647485362\n"
     ]
    }
   ],
   "source": [
    "# Напечатаем ход нашего дерева\n",
    "def print_tree(node, spacing=\"\"):\n",
    "\n",
    "    # Если лист, то выводим его прогноз\n",
    "    if isinstance(node, Leaf):\n",
    "        print(spacing + \"Прогноз:\", node.prediction)\n",
    "        return\n",
    "\n",
    "    # Выведем значение индекса и порога на этом узле\n",
    "    print(spacing + 'Индекс', str(node.index))\n",
    "    print(spacing + 'Порог', str(node.t))\n",
    "\n",
    "    # Рекурсионный вызов функции на положительном поддереве\n",
    "    print (spacing + '--> True:')\n",
    "    print_tree(node.true_branch, spacing + \"  \")\n",
    "\n",
    "    # Рекурсионный вызов функции на положительном поддереве\n",
    "    print (spacing + '--> False:')\n",
    "    print_tree(node.false_branch, spacing + \"  \")\n",
    "    \n",
    "print_tree(my_tree)"
   ]
  },
  {
   "cell_type": "code",
   "execution_count": 320,
   "metadata": {
    "colab": {},
    "colab_type": "code",
    "id": "CyvzFQp3abYI"
   },
   "outputs": [],
   "source": [
    "# Получим ответы для обучающей выборки \n",
    "train_answers = predict(X_train, my_tree)"
   ]
  },
  {
   "cell_type": "code",
   "execution_count": 321,
   "metadata": {
    "colab": {},
    "colab_type": "code",
    "id": "Rl6IyN8yabYN"
   },
   "outputs": [],
   "source": [
    "# И получим ответы для тестовой выборки\n",
    "answers = predict(X_test, my_tree)"
   ]
  },
  {
   "cell_type": "code",
   "execution_count": 322,
   "metadata": {
    "colab": {},
    "colab_type": "code",
    "id": "2odXAe7vabYP"
   },
   "outputs": [],
   "source": [
    "# Введем функцию подсчета точности как доли правильных ответов\n",
    "def accuracy_metric(actual, predicted):\n",
    "    correct = 0\n",
    "    for i in range(len(actual)):\n",
    "        if actual[i] == predicted[i]:\n",
    "            correct += 1\n",
    "    return correct / float(len(actual)) * 100.0\n",
    "\n",
    "# Для задачи регрессии подойдет метрика MSE\n",
    "def calc_mse(y, y_pred):\n",
    "    err = np.mean((y - y_pred)**2)\n",
    "    return err"
   ]
  },
  {
   "cell_type": "code",
   "execution_count": 323,
   "metadata": {
    "colab": {},
    "colab_type": "code",
    "id": "Jn0L6r8CabYS",
    "outputId": "901a6dd3-6e6a-4d8a-e019-0c09ad410dc0"
   },
   "outputs": [
    {
     "data": {
      "text/plain": [
       "0.010032266937024801"
      ]
     },
     "execution_count": 323,
     "metadata": {},
     "output_type": "execute_result"
    }
   ],
   "source": [
    "# Точность на обучающей выборке\n",
    "train_err = calc_mse(y_train, train_answers)\n",
    "train_err"
   ]
  },
  {
   "cell_type": "code",
   "execution_count": 324,
   "metadata": {
    "colab": {},
    "colab_type": "code",
    "id": "D__eGtLRabYU",
    "outputId": "65b8c452-d407-4121-f159-e4c8040970fa"
   },
   "outputs": [
    {
     "data": {
      "text/plain": [
       "0.01752315326757557"
      ]
     },
     "execution_count": 324,
     "metadata": {},
     "output_type": "execute_result"
    }
   ],
   "source": [
    "# Точность на тестовой выборке\n",
    "test_err = calc_mse(y_test, answers)\n",
    "test_err"
   ]
  },
  {
   "cell_type": "code",
   "execution_count": 325,
   "metadata": {},
   "outputs": [
    {
     "data": {
      "image/png": "[encoded data removed]",
      "text/plain": [
       "<Figure size 720x432 with 1 Axes>"
      ]
     },
     "metadata": {
      "needs_background": "light"
     },
     "output_type": "display_data"
    }
   ],
   "source": [
    "plt.figure(figsize=(10, 6))\n",
    "plt.plot(X_test, f(X_test), \"b\")\n",
    "plt.scatter(X_train, y_train, c=\"b\", s=20)\n",
    "plt.plot(X_test, answers, \"g\", lw=2)\n",
    "plt.xlim([-5, 5])\n",
    "plt.title(\"Результат по посторенной модели, MSE = %.2f\" % np.sum((y_test - answers) ** 2))\n",
    "plt.show()"
   ]
  },
  {
   "cell_type": "code",
   "execution_count": 326,
   "metadata": {},
   "outputs": [
    {
     "data": {
      "text/plain": [
       "0.017110028700759207"
      ]
     },
     "execution_count": 326,
     "metadata": {},
     "output_type": "execute_result"
    }
   ],
   "source": [
    "# Сравним со встроенным методом\n",
    "\n",
    "from sklearn.tree import DecisionTreeRegressor\n",
    "\n",
    "reg_tree = DecisionTreeRegressor(max_depth=5, random_state=17)\n",
    "\n",
    "reg_tree.fit(X_train, y_train)\n",
    "reg_tree_pred = reg_tree.predict(X_test)\n",
    "\n",
    "calc_mse(y_test, reg_tree.predict(X_test))"
   ]
  },
  {
   "cell_type": "code",
   "execution_count": null,
   "metadata": {},
   "outputs": [],
   "source": []
  }
 ],
 "metadata": {
  "kernelspec": {
   "display_name": "Python 3",
   "language": "python",
   "name": "python3"
  },
  "language_info": {
   "codemirror_mode": {
    "name": "ipython",
    "version": 3
   },
   "file_extension": ".py",
   "mimetype": "text/x-python",
   "name": "python",
   "nbconvert_exporter": "python",
   "pygments_lexer": "ipython3",
   "version": "3.7.1"
  }
 },
 "nbformat": 4,
 "nbformat_minor": 2
}
