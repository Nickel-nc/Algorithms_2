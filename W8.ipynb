{
 "cells": [
  {
   "cell_type": "markdown",
   "metadata": {},
   "source": [
    "## Algoritms #8\n",
    "\n",
    "## Снижение размерности данных"
   ]
  },
  {
   "cell_type": "code",
   "execution_count": 7,
   "metadata": {},
   "outputs": [],
   "source": [
    "import numpy as np\n",
    "import matplotlib.pyplot as plt\n",
    "from sklearn import datasets\n",
    "from sklearn.model_selection import train_test_split\n",
    "from sklearn.tree import DecisionTreeRegressor\n",
    "%matplotlib inline"
   ]
  },
  {
   "cell_type": "markdown",
   "metadata": {},
   "source": [
    "1. Написать свою реализацию метода главных компонент с помощью сингулярного разложения с использованием функции numpy.linalg.svd()\n",
    "2. Обучить любую модель классификации на датасете IRIS до применения PCA и после него. Сравнить качество классификации по отложенной выборке."
   ]
  },
  {
   "cell_type": "code",
   "execution_count": 8,
   "metadata": {},
   "outputs": [
    {
     "data": {
      "text/plain": [
       "(150, 4)"
      ]
     },
     "execution_count": 8,
     "metadata": {},
     "output_type": "execute_result"
    }
   ],
   "source": [
    "# Загрузим игрушечный датасет из sklearn\n",
    "iris = datasets.load_iris()\n",
    "X = iris.data\n",
    "y = iris.target\n",
    "X.shape"
   ]
  },
  {
   "cell_type": "code",
   "execution_count": 47,
   "metadata": {},
   "outputs": [],
   "source": [
    "X_train, X_test, y_train, y_test = train_test_split(X, y, test_size=0.25, random_state=1)"
   ]
  },
  {
   "cell_type": "code",
   "execution_count": 48,
   "metadata": {},
   "outputs": [],
   "source": [
    "\"\"\" Блок функционала PCA \"\"\"\n",
    "\n",
    "# Центрирование данных около нуля\n",
    "\n",
    "def get_scaled_data(X):\n",
    "\n",
    "    # Для начала отмасштабируем выборку\n",
    "    X_ = X.astype(float)\n",
    "\n",
    "    rows, cols = X_.shape\n",
    "\n",
    "    # центрирование - вычитание из каждого значения среднего по строке\n",
    "    means = X_.mean(0)\n",
    "    for i in range(rows):\n",
    "        for j in range(cols):\n",
    "            X_[i, j] -= means[j]\n",
    "\n",
    "    # деление каждого значения на стандартное отклонение\n",
    "    std = np.std(X_, axis=0)\n",
    "    for i in range(cols):\n",
    "        for j in range(rows):\n",
    "            X_[j][i] /= std[i]\n",
    "    \n",
    "    return X_\n",
    "\n",
    "\n",
    "# Расчет собственных векторов и собственных значений\n",
    "\n",
    "def get_eigen_val(X_, show_info):\n",
    "\n",
    "\n",
    "    covariance_matrix = X_.T.dot(X_)\n",
    "\n",
    "    eig_values, eig_vectors = np.linalg.eig(covariance_matrix)\n",
    "\n",
    "    # сформируем список кортежей (собственное значение, собственный вектор)\n",
    "    eig_pairs = [(np.abs(eig_values[i]), eig_vectors[:, i]) for i in range(len(eig_values))]\n",
    "\n",
    "    # и отсортируем список по убыванию собственных значений\n",
    "    eig_pairs.sort(key=lambda x: x[0], reverse=True)\n",
    "    \n",
    "    \n",
    "    if show_info == True:\n",
    "        print('Собственные значения в порядке убывания:')\n",
    "        for i in eig_pairs:\n",
    "            print(i)\n",
    "        \n",
    "    return eig_values, eig_pairs\n",
    "\n",
    "\n",
    "def eig_info(eig_values):\n",
    "    eig_sum = sum(eig_values)\n",
    "    var_exp = [(i / eig_sum) * 100 for i in sorted(eig_values, reverse=True)]\n",
    "    cum_var_exp = np.cumsum(var_exp)\n",
    "    print(f'\\nДоля дисперсии, описываемая каждой из компонент \\n{var_exp}\\n')\n",
    "\n",
    "    # а теперя оценим кумулятивную (то есть накапливаемую) дисперсию при учитывании каждой из компонент\n",
    "    print(f'Кумулятивная доля дисперсии по компонентам \\n{cum_var_exp}\\n')\n",
    "    \n",
    "    \n",
    "    \n",
    "def refactor_matrix(X, factor, show_info=True):  \n",
    "\n",
    "    X_ = get_scaled_data(X)\n",
    "      \n",
    "    if show_info == True:\n",
    "        print('='*25, 'PCA преобразование матрицы с итоговым количеством признаков: ', factor, '='*25,'\\n')\n",
    "        eig_values, eig_pairs = get_eigen_val(X_, show_info)\n",
    "        eig_info(eig_values)\n",
    "    else:\n",
    "        eig_values, eig_pairs = get_eigen_val(X_, show_info)\n",
    "         \n",
    "    # Формирование вектора весов из собственных векторов, в соответствии с заданным кол-вом главных компонент\n",
    "    \n",
    "    if factor == 1:\n",
    "        W = eig_pairs[0][1].reshape(4,1)\n",
    "    if factor == 2:\n",
    "        W = np.hstack((eig_pairs[0][1].reshape(4,1), eig_pairs[1][1].reshape(4,1)))\n",
    "    if factor == 3:\n",
    "        W = np.hstack((eig_pairs[0][1].reshape(4,1), eig_pairs[1][1].reshape(4,1), eig_pairs[2][1].reshape(4,1)))\n",
    "\n",
    "    # Сформируем новую матрицу \"объекты-признаки\"\n",
    "    Z = X_.dot(W)\n",
    "    \n",
    "    if show_info == True:\n",
    "        print(f'Матрица весов W:\\n', W)\n",
    "        print('\\n','='*115)\n",
    "    \n",
    "    return Z"
   ]
  },
  {
   "cell_type": "code",
   "execution_count": 49,
   "metadata": {},
   "outputs": [
    {
     "name": "stdout",
     "output_type": "stream",
     "text": [
      "========================= PCA преобразование матрицы с итоговым количеством признаков:  2 ========================= \n",
      "\n",
      "Собственные значения в порядке убывания:\n",
      "(437.7746724797988, array([ 0.52106591, -0.26934744,  0.5804131 ,  0.56485654]))\n",
      "(137.10457072021055, array([-0.37741762, -0.92329566, -0.02449161, -0.06694199]))\n",
      "(22.013531335697195, array([-0.71956635,  0.24438178,  0.14212637,  0.63427274]))\n",
      "(3.107225464292886, array([ 0.26128628, -0.12350962, -0.80144925,  0.52359713]))\n",
      "\n",
      "Доля дисперсии, описываемая каждой из компонент \n",
      "[72.96244541329987, 22.850761786701778, 3.6689218892828697, 0.5178709107154814]\n",
      "\n",
      "Кумулятивная доля дисперсии по компонентам \n",
      "[ 72.96244541  95.8132072   99.48212909 100.        ]\n",
      "\n",
      "Матрица весов W:\n",
      " [[ 0.52106591 -0.37741762]\n",
      " [-0.26934744 -0.92329566]\n",
      " [ 0.5804131  -0.02449161]\n",
      " [ 0.56485654 -0.06694199]]\n",
      "\n",
      " ===================================================================================================================\n"
     ]
    }
   ],
   "source": [
    "\"\"\" Реализация работы алгоритма PCA \"\"\"\n",
    "\n",
    "factor = 2 # Количество признаков после обработки PCA\n",
    "Z = refactor_matrix(X, factor)"
   ]
  },
  {
   "cell_type": "code",
   "execution_count": 50,
   "metadata": {},
   "outputs": [
    {
     "data": {
      "image/png": "[encoded data removed]",
      "text/plain": [
       "<Figure size 432x288 with 1 Axes>"
      ]
     },
     "metadata": {
      "needs_background": "light"
     },
     "output_type": "display_data"
    }
   ],
   "source": [
    "plt.figure()\n",
    "y = iris.target\n",
    "for c, i in zip(\"rgb\", [0, 1, 2]):\n",
    "    plt.scatter(Z[y==i, 0], Z[y==i, 1], c=c)\n",
    "plt.xlabel('Главная компонента 1')\n",
    "plt.ylabel('Главная компонента 2')\n",
    "plt.title('PCA датасета IRIS')\n",
    "plt.show()"
   ]
  },
  {
   "cell_type": "code",
   "execution_count": 51,
   "metadata": {
    "colab": {},
    "colab_type": "code",
    "id": "LIKuDr9huf-V"
   },
   "outputs": [],
   "source": [
    "\"\"\" Блок функционала кластеризации методом KNN \"\"\"\n",
    "\n",
    "# Подсчет Евклидовой метрики\n",
    "\n",
    "def e_metrics(x1, x2):\n",
    "    \n",
    "    distance = 0\n",
    "    for i in range(len(x1)):\n",
    "        distance += np.square(x1[i] - x2[i])\n",
    "    \n",
    "    return np.sqrt(distance)\n",
    "\n",
    "\n",
    "# Подсчет точности работы алгоритма\n",
    "\n",
    "def accuracy(pred, y):\n",
    "    return (sum(pred == y) / len(y))\n",
    "\n",
    "\n",
    "# Реализация KNN\n",
    "\n",
    "def knn(x_train, y_train, x_test, k):\n",
    "    \n",
    "    answers = []\n",
    "    for x in x_test:\n",
    "        test_distances = []\n",
    "            \n",
    "        for i in range(len(x_train)):\n",
    "            \n",
    "            # расчет расстояния от классифицируемого объекта до\n",
    "            # объекта обучающей выборки\n",
    "            distance = e_metrics(x, x_train[i])\n",
    "            \n",
    "            # Записываем в список значение расстояния и ответа на объекте обучающей выборки\n",
    "            test_distances.append((distance, y_train[i]))\n",
    "        \n",
    "        # создаем словарь со всеми возможными классами\n",
    "        classes = {class_item: 0 for class_item in set(y_train)}\n",
    "        \n",
    "        # Сортируем список и среди первых k элементов подсчитаем частоту появления разных классов\n",
    "        for d in sorted(test_distances)[0:k]:\n",
    "            classes[d[1]] += 1 / (d[0] + 1 ) ** 2\n",
    "            \n",
    "        # Записываем в список ответов наиболее часто встречающийся класс\n",
    "        answers.append(sorted(classes, key=classes.get)[-1])\n",
    "    return answers"
   ]
  },
  {
   "cell_type": "code",
   "execution_count": 54,
   "metadata": {},
   "outputs": [
    {
     "name": "stdout",
     "output_type": "stream",
     "text": [
      "Точность алгоритма на исходных данных при k = 10: 0.974\n"
     ]
    }
   ],
   "source": [
    "\"\"\" Классификация KNN на исходных данных \"\"\"\n",
    "\n",
    "k = 10\n",
    "\n",
    "y_pred = knn(X_train, y_train, X_test, k)\n",
    "\n",
    "print(f'Точность алгоритма на исходных данных при k = {k}: {accuracy(y_pred, y_test):.3f}')"
   ]
  },
  {
   "cell_type": "code",
   "execution_count": 55,
   "metadata": {},
   "outputs": [
    {
     "name": "stdout",
     "output_type": "stream",
     "text": [
      "Точность алгоритма после PCA при k = 10, снижение размерности признаков до 1-мерного: 0.974\n",
      "Точность алгоритма после PCA при k = 10, снижение размерности признаков до 2-мерного: 0.974\n",
      "Точность алгоритма после PCA при k = 10, снижение размерности признаков до 3-мерного: 0.947\n"
     ]
    }
   ],
   "source": [
    "\"\"\" Классификация KNN на данных пониженной размерности \"\"\"\n",
    "\n",
    "factor = np.arange(1,4) # Количество признаков после обработки PCA\n",
    "\n",
    "for f in factor:\n",
    "    X_train_scaled = refactor_matrix(X_train, f, show_info=False)\n",
    "    X_test_scaled = refactor_matrix(X_test, f, show_info=False)\n",
    "\n",
    "    y_pred = knn(X_train_scaled, y_train, X_test_scaled, k)\n",
    "\n",
    "    print(f'Точность алгоритма после PCA при k = {k}, снижение размерности признаков до {f}-мерного: {accuracy(y_pred, y_test):.3f}')"
   ]
  },
  {
   "cell_type": "code",
   "execution_count": 56,
   "metadata": {},
   "outputs": [],
   "source": [
    "\"\"\" Реализация PCA с помощью SVD разложения \"\"\"\n",
    "\n",
    "def refactor_matrix_svd(X, factor, show_info=True):\n",
    "    \n",
    "    X_ = get_scaled_data(X)  \n",
    "    U,s,V = np.linalg.svd(X_, full_matrices=False)  \n",
    "    # Z = np.dot(U[:,:factor],np.dot(np.diag(s[:factor]),V[:factor,:])) # X(d) = U D V.T\n",
    "    W = V[:,:factor]\n",
    "    Z = np.dot(X_, W)\n",
    "\n",
    "    return Z"
   ]
  },
  {
   "cell_type": "code",
   "execution_count": 57,
   "metadata": {},
   "outputs": [],
   "source": [
    "\"\"\" Реализация работы алгоритма PCA \"\"\"\n",
    "\n",
    "factor = 2 # Количество признаков после обработки PCA\n",
    "Z = refactor_matrix_svd(X, factor)"
   ]
  },
  {
   "cell_type": "code",
   "execution_count": 58,
   "metadata": {},
   "outputs": [
    {
     "name": "stdout",
     "output_type": "stream",
     "text": [
      "Точность алгоритма после PCA, SVD при k = 10, снижение размерности признаков до 1-мерного: 0.711\n",
      "Точность алгоритма после PCA, SVD при k = 10, снижение размерности признаков до 2-мерного: 0.553\n",
      "Точность алгоритма после PCA, SVD при k = 10, снижение размерности признаков до 3-мерного: 0.737\n"
     ]
    }
   ],
   "source": [
    "\"\"\" Классификация KNN для обработанных SVD данных \"\"\"\n",
    "\n",
    "factor = np.arange(1,4) # Количество признаков после обработки PCA\n",
    "\n",
    "for f in factor:\n",
    "    X_train_scaled = refactor_matrix_svd(X_train, f, show_info=False)\n",
    "    X_test_scaled = refactor_matrix_svd(X_test, f, show_info=False)\n",
    "\n",
    "    y_pred = knn(X_train_scaled, y_train, X_test_scaled, k)\n",
    "\n",
    "    print(f'Точность алгоритма после PCA, SVD при k = {k}, снижение размерности признаков до {f}-мерного: {accuracy(y_pred, y_test):.3f}')"
   ]
  },
  {
   "cell_type": "code",
   "execution_count": null,
   "metadata": {},
   "outputs": [],
   "source": []
  }
 ],
 "metadata": {
  "kernelspec": {
   "display_name": "Python 3",
   "language": "python",
   "name": "python3"
  },
  "language_info": {
   "codemirror_mode": {
    "name": "ipython",
    "version": 3
   },
   "file_extension": ".py",
   "mimetype": "text/x-python",
   "name": "python",
   "nbconvert_exporter": "python",
   "pygments_lexer": "ipython3",
   "version": "3.7.1"
  }
 },
 "nbformat": 4,
 "nbformat_minor": 2
}
