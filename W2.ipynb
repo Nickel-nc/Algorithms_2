{
 "cells": [
  {
   "cell_type": "markdown",
   "metadata": {},
   "source": [
    "## Algoritms #2\n",
    "## Масштабирование признаков. Регуляризация. Стохастический градиентный спуск."
   ]
  },
  {
   "cell_type": "markdown",
   "metadata": {},
   "source": [
    "* [График зависимости весов признаков от lambda с учетом L2-регуляризации](#l2)\n",
    "* [Проблема совместного использования нормализации и стандартизации](#nstprob)\n",
    "* [Градиентный спуск с L1 (Ridge) регуляризацией](#l1)"
   ]
  },
  {
   "cell_type": "code",
   "execution_count": 266,
   "metadata": {},
   "outputs": [],
   "source": [
    "import numpy as np\n",
    "import matplotlib.pyplot as plt\n",
    "# from sklearn import datasets\n",
    "np.random.seed(42)\n",
    "\n",
    "import sklearn.linear_model\n",
    "%matplotlib inline"
   ]
  },
  {
   "cell_type": "markdown",
   "metadata": {},
   "source": [
    "1. Постройте график зависимости весов всех признаков от lambda в L2-регуляризации (на данных из урока).\n",
    "2. Можно ли к одному и тому же признаку применить сразу и нормализацию, и стандартизацию?\n",
    "3. Напишите функцию наподобие eval_model_reg2, но для применения L1-регуляризации."
   ]
  },
  {
   "cell_type": "code",
   "execution_count": 244,
   "metadata": {
    "colab": {},
    "colab_type": "code",
    "id": "_n6il-AZaLuA"
   },
   "outputs": [],
   "source": [
    "X = np.array([[1, 1, 1, 1, 1, 1, 1, 1, 1, 1],\n",
    "              [1, 1, 2, 5, 3, 0, 5, 10, 1, 2],\n",
    "              [500, 700, 750, 600, 1450, 800, 1500, 2000, 450, 1000],\n",
    "              [1, 1, 2, 1, 2, 1, 3, 3, 1, 2]])\n",
    "\n",
    "y = [45, 55, 50, 55, 60, 35, 75, 80, 50, 60]"
   ]
  },
  {
   "cell_type": "code",
   "execution_count": 251,
   "metadata": {
    "colab": {},
    "colab_type": "code",
    "id": "ZlJUBOyzgkJV"
   },
   "outputs": [],
   "source": [
    "def calc_std_fit(x):\n",
    "    res = (x - x.mean()) / x.std()\n",
    "    return res\n",
    "\n",
    "def calc_mse(y, y_pred):\n",
    "    err = np.mean((y - y_pred)**2)\n",
    "    return err\n",
    "\n",
    "# Полный градиентного спуска\n",
    "def eval_model(X, y, iterations, alpha=1e-4):\n",
    "    W = np.random.randn(X.shape[0])\n",
    "    n = X.shape[1]\n",
    "    for i in range(1, iterations+1):\n",
    "        y_pred = np.dot(W, X)\n",
    "        err = calc_mse(y, y_pred)\n",
    "        W -= (alpha * (1/n * 2 * np.dot((y_pred - y), X.T)))\n",
    "        if i % (iterations / 10) == 0:\n",
    "            print(i, W, err)\n",
    "    return W\n",
    "\n",
    "# Cтохастический градиентный спуск (батчами)\n",
    "def eval_sgd_model(X, y, iterations, qty_in_batch, alpha=1e-4):\n",
    "    W = np.random.randn(X.shape[0])\n",
    "    n = X.shape[1]\n",
    "    n_batch = n // qty_in_batch\n",
    "    \n",
    "    if n % qty_in_batch != 0:\n",
    "        n_batch += 1\n",
    "        \n",
    "    for i in range(1, iterations+1):\n",
    "        for b in range(n_batch):\n",
    "            start_ = qty_in_batch*b\n",
    "            end_ = qty_in_batch*(b+1)\n",
    "#             print(b, n_batch, start_, end_)\n",
    "            X_tmp = X[:, start_ : end_]\n",
    "            y_tmp = y[start_ : end_]\n",
    "\n",
    "            y_pred_tmp = np.dot(W, X_tmp)\n",
    "            err = calc_mse(y_tmp, y_pred_tmp)\n",
    "\n",
    "            W -= (alpha * (1/n * 2 * np.dot((y_pred_tmp - y_tmp), X_tmp.T)))\n",
    "        \n",
    "        if i % (iterations / 10) == 0:\n",
    "            print(i, W, err)\n",
    "    return W"
   ]
  },
  {
   "cell_type": "code",
   "execution_count": 252,
   "metadata": {
    "colab": {},
    "colab_type": "code",
    "id": "6PlDlFY0hGZA"
   },
   "outputs": [],
   "source": [
    "X_st[2] = calc_std_fit(X[2])\n",
    "X_st[3] = calc_std_fit(X[3])"
   ]
  },
  {
   "cell_type": "code",
   "execution_count": 264,
   "metadata": {
    "colab": {
     "base_uri": "https://localhost:8080/",
     "height": 207
    },
    "colab_type": "code",
    "id": "4nsYMAGjmFlB",
    "outputId": "8959a8af-3d27-42a6-afae-5db46c794fe1"
   },
   "outputs": [
    {
     "name": "stdout",
     "output_type": "stream",
     "text": [
      "100 [48.91681052  4.8915443   3.56156795  3.8499849 ] 87.4329345137557\n",
      "200 [55.49432078  5.33036005  2.80302055  4.26670749] 27.656479999808578\n",
      "300 [56.36662727  5.59985122  2.1909834   4.6361838 ] 26.03323920839898\n",
      "400 [56.48231217  5.77929046  1.70460926  4.96265786] 25.636898918337284\n",
      "500 [56.49765425  5.9033978   1.31509542  5.24278616] 25.389269316494346\n",
      "600 [56.49968891  5.99233473  1.00141879  5.47886176] 25.226134999562497\n",
      "700 [56.49995874  6.05808366  0.74784021  5.67556519] 25.118104185781785\n",
      "800 [56.49999453  6.10795549  0.54230134  5.83826339] 25.046430119208495\n",
      "900 [56.49999927  6.14655407  0.37539852  5.9721875 ] 24.9988370428541\n",
      "1000 [56.4999999   6.1768842   0.23970116  6.0820742 ] 24.967221986593543\n",
      "Wall time: 38.9 ms\n"
     ]
    },
    {
     "data": {
      "text/plain": [
       "array([56.4999999 ,  6.1768842 ,  0.23970116,  6.0820742 ])"
      ]
     },
     "execution_count": 264,
     "metadata": {},
     "output_type": "execute_result"
    }
   ],
   "source": [
    "%%time\n",
    "eval_model(X_st, y, iterations=1000, alpha=1e-2)"
   ]
  },
  {
   "cell_type": "code",
   "execution_count": 265,
   "metadata": {
    "colab": {
     "base_uri": "https://localhost:8080/",
     "height": 207
    },
    "colab_type": "code",
    "id": "2aXap4Vsm3GV",
    "outputId": "8b666b76-9d01-4b6d-813c-f1d3f5901f5f"
   },
   "outputs": [
    {
     "name": "stdout",
     "output_type": "stream",
     "text": [
      "100 [49.20706965  5.15492777  2.33073656  4.94478532] 83.27672572933488\n",
      "200 [55.52874547  5.54500745  1.77853387  5.13914299] 32.10249839663888\n",
      "300 [56.3727478   5.77840849  1.35143053  5.34459401] 30.291529681537583\n",
      "400 [56.48532021  5.92804228  1.01860775  5.54051813] 29.22331340307148\n",
      "500 [56.5002531   6.02723777  0.75485918  5.71503355] 28.321224286686732\n",
      "600 [56.50217126  6.09547318  0.5439028   5.86533748] 27.580939229569015\n",
      "700 [56.5023685   6.14412203  0.37415153  5.99228335] 26.97830029862094\n",
      "800 [56.50234848  6.17992931  0.23699466  6.09820437] 26.48878189973585\n",
      "900 [56.50230894  6.20699378  0.12586081  6.18589358] 26.091398840023068\n",
      "1000 [5.65022741e+01 6.22788352e+00 3.56386156e-02 6.25811785e+00] 25.768818569623438\n",
      "Wall time: 66.8 ms\n"
     ]
    },
    {
     "data": {
      "text/plain": [
       "array([5.65022741e+01, 6.22788352e+00, 3.56386156e-02, 6.25811785e+00])"
      ]
     },
     "execution_count": 265,
     "metadata": {},
     "output_type": "execute_result"
    }
   ],
   "source": [
    "%%time\n",
    "eval_sgd_model(X_st, y, iterations=1000, qty_in_batch=5, alpha=1e-2)"
   ]
  },
  {
   "cell_type": "markdown",
   "metadata": {
    "colab": {},
    "colab_type": "code",
    "id": "DYTxT_6OrZpe"
   },
   "source": [
    "L1 регуляризация"
   ]
  },
  {
   "cell_type": "raw",
   "metadata": {
    "colab": {},
    "colab_type": "code",
    "id": "Ojkn7xKrsyiw"
   },
   "source": [
    "f(x, W) + (lambda_/2) * np.sum(np.abs(W))"
   ]
  },
  {
   "cell_type": "markdown",
   "metadata": {
    "colab": {},
    "colab_type": "code",
    "id": "j38vId7Hvtg0"
   },
   "source": [
    "L2 регуляризация"
   ]
  },
  {
   "cell_type": "raw",
   "metadata": {
    "colab": {},
    "colab_type": "code",
    "id": "KO5BtZ7svv4k"
   },
   "source": [
    "f(x, W) + (lambda_/2) * np.sum(W**2)"
   ]
  },
  {
   "cell_type": "code",
   "execution_count": 555,
   "metadata": {
    "colab": {},
    "colab_type": "code",
    "id": "7AVoe1Mswjni"
   },
   "outputs": [],
   "source": [
    "def eval_model_reg2(X, y, iterations, alpha=1e-4, lambda_=1e-8):\n",
    "    W = np.random.randn(X.shape[0])\n",
    "    n = X.shape[1]\n",
    "    for i in range(1, iterations+1):\n",
    "        y_pred = np.dot(W, X)\n",
    "        err = calc_mse(y, y_pred)\n",
    "        W -= alpha * (1/n * 2 * np.dot((y_pred - y), X.T) + lambda_ * W)\n",
    "        \n",
    "        if i % (iterations / 10) == 0:\n",
    "            pass\n",
    "#             print(i, W, err)\n",
    "    return W"
   ]
  },
  {
   "cell_type": "code",
   "execution_count": 556,
   "metadata": {
    "colab": {
     "base_uri": "https://localhost:8080/",
     "height": 207
    },
    "colab_type": "code",
    "id": "vLJL6j8Lw6OA",
    "outputId": "dac9ef42-5966-4404-9346-aeb18cca83c6",
    "scrolled": true
   },
   "outputs": [
    {
     "name": "stdout",
     "output_type": "stream",
     "text": [
      "Wall time: 254 ms\n"
     ]
    },
    {
     "data": {
      "text/plain": [
       "array([56.49717514,  6.30231281, -0.35421823,  6.56976553])"
      ]
     },
     "execution_count": 556,
     "metadata": {},
     "output_type": "execute_result"
    }
   ],
   "source": [
    "%%time\n",
    "eval_model_reg2(X_st, y, iterations=5000, alpha=1e-2, lambda_=1e-4)"
   ]
  },
  {
   "cell_type": "code",
   "execution_count": 557,
   "metadata": {
    "colab": {
     "base_uri": "https://localhost:8080/",
     "height": 207
    },
    "colab_type": "code",
    "id": "4nsYMAGjmFlB",
    "outputId": "8959a8af-3d27-42a6-afae-5db46c794fe1"
   },
   "outputs": [
    {
     "name": "stdout",
     "output_type": "stream",
     "text": [
      "500 [56.49764423  5.99605459  0.77740863  5.70442484] 25.124860319409088\n",
      "1000 [5.64999999e+01 6.21641748e+00 4.42233746e-02 6.24433290e+00] 24.932812282279986\n",
      "1500 [56.5         6.27311503 -0.21257504  6.45295351] 24.90827066623998\n",
      "2000 [56.5         6.29236542 -0.30464389  6.52877568] 24.9050919928353\n",
      "2500 [56.5         6.29923521 -0.33776469  6.55610464] 24.904680172821127\n",
      "3000 [56.5         6.3017049  -0.34968529  6.56594338] 24.904626818279773\n",
      "3500 [56.5         6.30259369 -0.35397596  6.56948485] 24.904619905776016\n",
      "4000 [56.5         6.30291359 -0.35552035  6.57075957] 24.90461901020633\n",
      "4500 [56.5         6.30302874 -0.35607624  6.5712184 ] 24.904618894178192\n",
      "5000 [56.5         6.30307018 -0.35627633  6.57138355] 24.904618879145826\n",
      "Wall time: 246 ms\n"
     ]
    },
    {
     "data": {
      "text/plain": [
       "array([56.5       ,  6.30307018, -0.35627633,  6.57138355])"
      ]
     },
     "execution_count": 557,
     "metadata": {},
     "output_type": "execute_result"
    }
   ],
   "source": [
    "%%time\n",
    "eval_model(X_st, y, iterations=5000, alpha=1e-2)"
   ]
  },
  {
   "cell_type": "markdown",
   "metadata": {},
   "source": [
    "## <left>График зависимости весов признаков от lambda с учетом L2-регуляризации<a class=\"anchor\" id=\"l2\"></a><left>"
   ]
  },
  {
   "cell_type": "code",
   "execution_count": 558,
   "metadata": {},
   "outputs": [],
   "source": [
    "lambdas = np.linspace(-0.05, 5, 1000)\n",
    "y_dat = []\n",
    "for i in range(len(lambdas)):\n",
    "    y_dat.append(eval_model_reg2(X_st, y, iterations=1000, alpha=1e-2, lambda_=x_dat[i]))"
   ]
  },
  {
   "cell_type": "code",
   "execution_count": 559,
   "metadata": {
    "scrolled": false
   },
   "outputs": [
    {
     "data": {
      "image/png": "[encoded data removed]",
      "text/plain": [
       "<Figure size 1152x432 with 1 Axes>"
      ]
     },
     "metadata": {
      "needs_background": "light"
     },
     "output_type": "display_data"
    }
   ],
   "source": [
    "plt.figure(figsize=(16, 6))\n",
    "plt.xlabel('lambda', fontsize=14)\n",
    "plt.ylabel('Веса', fontsize=14)\n",
    "plt.plot(x_dat, y_dat)\n",
    "plt.yscale('log')\n",
    "plt.xscale('log')\n",
    "plt.show()"
   ]
  },
  {
   "cell_type": "markdown",
   "metadata": {},
   "source": [
    "## <left>Проблема совместного использования нормализации и стандартизации<a class=\"anchor\" id=\"nstprob\"></a><left>"
   ]
  },
  {
   "cell_type": "markdown",
   "metadata": {},
   "source": [
    "Использование нормализации и стандартизации вместе не имеет практического смысла. Исходя из основных свойств этих приемов масшабирования результатом `нормализациии` является сужение диапазона номинальных признаков от 0 до 1. После `стандартизации` данных, каждый признак будет иметь среднее 0 и дисперсию 1.\n",
    "\n",
    "В итоге признаки будут отмасштабированы в диапазоне, соответствующем выводу последнего примененного метода масштабирования.\n",
    "Докажем это:"
   ]
  },
  {
   "cell_type": "code",
   "execution_count": 501,
   "metadata": {},
   "outputs": [
    {
     "name": "stdout",
     "output_type": "stream",
     "text": [
      "\n",
      "Нормализация - min: 0.0, max: 1.0, std: 0.31, mean: 0.34\n",
      "Стандартизация - min: -1.08, max: 2.11, std: 1.0, mean: -0.0\n",
      "Нормализация-Стандартизация - min: -1.08, max: 2.11, std: 1.0, mean: -0.0\n",
      "Стандартизация-Нормализация - min: 0.0, max: 1.0, std: 0.31, mean: 0.34\n",
      "\n"
     ]
    }
   ],
   "source": [
    "# Используем один признак датасета X\n",
    "Xtest = X[2]\n",
    "\n",
    "# Применим операцию нормализации\n",
    "xn = (Xtest - Xtest.min()) / (Xtest.max() - Xtest.min())\n",
    "\n",
    "# Отдельно применим стандартизацию\n",
    "xst = calc_std_fit(Xtest)\n",
    "\n",
    "# К уже нормализованным данным применим стандартизацию, а к стандартизованным - нормализацию\n",
    "x_n_st = calc_std_fit(xn)\n",
    "x_st_n = (xst - xst.min()) / (xst.max() - xst.min())\n",
    "\n",
    "print(f\"\"\"\n",
    "Нормализация - min: {xn.min()}, max: {xn.max()}, std: {round(xn.std(), 2)}, mean: {round(xn.mean(),2)}\n",
    "Стандартизация - min: {round(xst.min(),2)}, max: {round(xst.max(),2)}, std: {round(xst.std(), 2)}, mean: {round(xst.mean(),2)}\n",
    "Нормализация-Стандартизация - min: {round(x_n_st.min(),2)}, max: {round(x_n_st.max(),2)}, std: {round(x_n_st.std(), 2)}, mean: {round(x_n_st.mean(),2)}\n",
    "Стандартизация-Нормализация - min: {x_st_n.min()}, max: {x_st_n.max()}, std: {round(x_st_n.std(), 2)}, mean: {round(x_st_n.mean(),2)}\n",
    "\"\"\")"
   ]
  },
  {
   "cell_type": "markdown",
   "metadata": {},
   "source": [
    "## <left>Градиентный спуск с L1 (Ridge) регуляризацией<a class=\"anchor\" id=\"l1\"></a><left>"
   ]
  },
  {
   "cell_type": "markdown",
   "metadata": {
    "colab": {},
    "colab_type": "code",
    "id": "DYTxT_6OrZpe"
   },
   "source": [
    "L1 регуляризация"
   ]
  },
  {
   "cell_type": "raw",
   "metadata": {
    "colab": {},
    "colab_type": "code",
    "id": "Ojkn7xKrsyiw"
   },
   "source": [
    "f(x, W) + (lambda_/2) * np.sum(np.abs(W))"
   ]
  },
  {
   "cell_type": "code",
   "execution_count": 536,
   "metadata": {},
   "outputs": [],
   "source": [
    "def eval_model_reg1(X, y, iterations, alpha=1e-4, lambda_=1e-8):\n",
    "    W = np.random.randn(X.shape[0])\n",
    "    n = X.shape[1]\n",
    "    for i in range(1, iterations+1):\n",
    "        y_pred = np.dot(W, X)\n",
    "        err = calc_mse(y, y_pred)\n",
    "        W -= alpha * (1/n * 2 * np.dot((y_pred - y), X.T) + lambda_ * abs(W).mean())\n",
    "        \n",
    "        if i % (iterations / 10) == 0:\n",
    "            pass\n",
    "#             print(i, W, err)\n",
    "    return W"
   ]
  },
  {
   "cell_type": "code",
   "execution_count": 537,
   "metadata": {},
   "outputs": [
    {
     "data": {
      "text/plain": [
       "array([56.49912839,  6.30259266, -0.35635039,  6.57091736])"
      ]
     },
     "execution_count": 537,
     "metadata": {},
     "output_type": "execute_result"
    }
   ],
   "source": [
    "eval_model_reg1(X_st, y, iterations=5000, alpha=1e-2, lambda_=1e-4)"
   ]
  },
  {
   "cell_type": "code",
   "execution_count": 538,
   "metadata": {},
   "outputs": [
    {
     "data": {
      "text/plain": [
       "array([56.49717514,  6.3023206 , -0.35425586,  6.56979659])"
      ]
     },
     "execution_count": 538,
     "metadata": {},
     "output_type": "execute_result"
    }
   ],
   "source": [
    "eval_model_reg2(X_st, y, iterations=5000, alpha=1e-2, lambda_=1e-4)"
   ]
  },
  {
   "cell_type": "code",
   "execution_count": null,
   "metadata": {},
   "outputs": [],
   "source": []
  }
 ],
 "metadata": {
  "kernelspec": {
   "display_name": "Python 3",
   "language": "python",
   "name": "python3"
  },
  "language_info": {
   "codemirror_mode": {
    "name": "ipython",
    "version": 3
   },
   "file_extension": ".py",
   "mimetype": "text/x-python",
   "name": "python",
   "nbconvert_exporter": "python",
   "pygments_lexer": "ipython3",
   "version": "3.7.1"
  }
 },
 "nbformat": 4,
 "nbformat_minor": 2
}
