{
 "cells": [
  {
   "cell_type": "markdown",
   "metadata": {},
   "source": [
    "## Algoritms #2\n",
    "## Масштабирование признаков. Регуляризация. Стохастический градиентный спуск."
   ]
  },
  {
   "cell_type": "markdown",
   "metadata": {},
   "source": [
    "* [График зависимости весов признаков от lambda с учетом L2-регуляризации](#l2)\n",
    "* [Проблема совместного использования нормализации и стандартизации](#nstprob)\n",
    "* [Градиентный спуск с L1 (Ridge) регуляризацией](#l1)"
   ]
  },
  {
   "cell_type": "code",
   "execution_count": 12,
   "metadata": {},
   "outputs": [],
   "source": [
    "import numpy as np\n",
    "import matplotlib.pyplot as plt\n",
    "# from sklearn import datasets\n",
    "np.random.seed(42)\n",
    "\n",
    "import sklearn.linear_model\n",
    "%matplotlib inline"
   ]
  },
  {
   "cell_type": "markdown",
   "metadata": {},
   "source": [
    "1. Постройте график зависимости весов всех признаков от lambda в L2-регуляризации (на данных из урока).\n",
    "2. Можно ли к одному и тому же признаку применить сразу и нормализацию, и стандартизацию?\n",
    "3. Напишите функцию наподобие eval_model_reg2, но для применения L1-регуляризации."
   ]
  },
  {
   "cell_type": "code",
   "execution_count": 13,
   "metadata": {
    "colab": {},
    "colab_type": "code",
    "id": "_n6il-AZaLuA"
   },
   "outputs": [],
   "source": [
    "X = np.array([[1, 1, 1, 1, 1, 1, 1, 1, 1, 1],\n",
    "              [1, 1, 2, 5, 3, 0, 5, 10, 1, 2],\n",
    "              [500, 700, 750, 600, 1450, 800, 1500, 2000, 450, 1000],\n",
    "              [1, 1, 2, 1, 2, 1, 3, 3, 1, 2]])\n",
    "\n",
    "y = [45, 55, 50, 55, 60, 35, 75, 80, 50, 60]"
   ]
  },
  {
   "cell_type": "code",
   "execution_count": 14,
   "metadata": {
    "colab": {},
    "colab_type": "code",
    "id": "ZlJUBOyzgkJV"
   },
   "outputs": [],
   "source": [
    "def calc_std_fit(x):\n",
    "    res = (x - x.mean()) / x.std()\n",
    "    return res\n",
    "\n",
    "def calc_mse(y, y_pred):\n",
    "    err = np.mean((y - y_pred)**2)\n",
    "    return err\n",
    "\n",
    "# Полный градиентного спуска\n",
    "def eval_model(X, y, iterations, alpha=1e-4):\n",
    "    W = np.random.randn(X.shape[0])\n",
    "    n = X.shape[1]\n",
    "    for i in range(1, iterations+1):\n",
    "        y_pred = np.dot(W, X)\n",
    "        err = calc_mse(y, y_pred)\n",
    "        W -= (alpha * (1/n * 2 * np.dot((y_pred - y), X.T)))\n",
    "        if i % (iterations / 10) == 0:\n",
    "            print(i, W, err)\n",
    "    return W\n",
    "\n",
    "# Cтохастический градиентный спуск (батчами)\n",
    "def eval_sgd_model(X, y, iterations, qty_in_batch, alpha=1e-4):\n",
    "    W = np.random.randn(X.shape[0])\n",
    "    n = X.shape[1]\n",
    "    n_batch = n // qty_in_batch\n",
    "    \n",
    "    if n % qty_in_batch != 0:\n",
    "        n_batch += 1\n",
    "        \n",
    "    for i in range(1, iterations+1):\n",
    "        for b in range(n_batch):\n",
    "            start_ = qty_in_batch*b\n",
    "            end_ = qty_in_batch*(b+1)\n",
    "#             print(b, n_batch, start_, end_)\n",
    "            X_tmp = X[:, start_ : end_]\n",
    "            y_tmp = y[start_ : end_]\n",
    "\n",
    "            y_pred_tmp = np.dot(W, X_tmp)\n",
    "            err = calc_mse(y_tmp, y_pred_tmp)\n",
    "\n",
    "            W -= (alpha * (1/n * 2 * np.dot((y_pred_tmp - y_tmp), X_tmp.T)))\n",
    "        \n",
    "        if i % (iterations / 10) == 0:\n",
    "            print(i, W, err)\n",
    "    return W"
   ]
  },
  {
   "cell_type": "code",
   "execution_count": 16,
   "metadata": {
    "colab": {},
    "colab_type": "code",
    "id": "6PlDlFY0hGZA"
   },
   "outputs": [],
   "source": [
    "X_st = X.copy().astype(np.float64)\n",
    "X_st[2] = calc_std_fit(X[2])\n",
    "X_st[3] = calc_std_fit(X[3])"
   ]
  },
  {
   "cell_type": "code",
   "execution_count": 17,
   "metadata": {
    "colab": {
     "base_uri": "https://localhost:8080/",
     "height": 207
    },
    "colab_type": "code",
    "id": "4nsYMAGjmFlB",
    "outputId": "8959a8af-3d27-42a6-afae-5db46c794fe1"
   },
   "outputs": [
    {
     "name": "stdout",
     "output_type": "stream",
     "text": [
      "100 [24.13246542  8.82489477 -7.03122524 -2.70327036] 204.34402440118356\n",
      "200 [33.18264087  6.60286127 -5.65927338  0.81046359] 100.59699117465416\n",
      "300 [38.88500189  5.11256062 -4.36432892  3.27274287] 57.1840219578987\n",
      "400 [42.60223448  4.13638525 -3.4115959   4.79813226] 38.78502695177333\n",
      "500 [45.03492345  3.49653293 -2.70998144  5.72047058] 30.948546205719357\n",
      "600 [46.63095389  3.0760344  -2.18686417  6.26372184] 27.58538609160118\n",
      "700 [47.681156    2.79877681 -1.79197065  6.57122699] 26.12526839730112\n",
      "800 [48.37468162  2.61522803 -1.49040855  6.73408755] 25.48040576428611\n",
      "900 [48.83466595  2.49312333 -1.25768979  6.80986225] 25.188527113979397\n",
      "1000 [49.1413554   2.41141991 -1.07641333  6.83463992] 25.051924497995337\n",
      "Wall time: 49.3 ms\n"
     ]
    },
    {
     "data": {
      "text/plain": [
       "array([49.1413554 ,  2.41141991, -1.07641333,  6.83463992])"
      ]
     },
     "execution_count": 17,
     "metadata": {},
     "output_type": "execute_result"
    }
   ],
   "source": [
    "%%time\n",
    "eval_model(X_st, y, iterations=1000, alpha=1e-2)"
   ]
  },
  {
   "cell_type": "code",
   "execution_count": 18,
   "metadata": {
    "colab": {
     "base_uri": "https://localhost:8080/",
     "height": 207
    },
    "colab_type": "code",
    "id": "2aXap4Vsm3GV",
    "outputId": "8b666b76-9d01-4b6d-813c-f1d3f5901f5f"
   },
   "outputs": [
    {
     "name": "stdout",
     "output_type": "stream",
     "text": [
      "100 [23.81404281  8.92219974 -6.45234569 -3.4671857 ] 210.37746088099402\n",
      "200 [33.00049723  6.66798247 -5.16407466  0.24275067] 99.13970610229288\n",
      "300 [38.7903501   5.14991759 -3.95246453  2.83956247] 54.55279081063297\n",
      "400 [42.56020219  4.15691687 -3.07102272  4.46447435] 35.684655846533516\n",
      "500 [45.02323245  3.50731004 -2.42906959  5.46204748] 27.733618514651283\n",
      "600 [46.63582634  3.08143424 -1.95557139  6.06286847] 24.461310766909456\n",
      "700 [47.69422837  2.80146355 -1.60178108  6.41488364] 23.202967802913125\n",
      "800 [48.39099733  2.61678707 -1.33416521  6.61247216] 22.81066165948428\n",
      "900 [48.85139167  2.49446678 -1.12941636  6.71555827] 22.784953535024506\n",
      "1000 [49.15696454  2.41304459 -0.97114363  6.76196105] 22.906297353901998\n",
      "Wall time: 135 ms\n"
     ]
    },
    {
     "data": {
      "text/plain": [
       "array([49.15696454,  2.41304459, -0.97114363,  6.76196105])"
      ]
     },
     "execution_count": 18,
     "metadata": {},
     "output_type": "execute_result"
    }
   ],
   "source": [
    "%%time\n",
    "eval_sgd_model(X_st, y, iterations=1000, qty_in_batch=5, alpha=1e-2)"
   ]
  },
  {
   "cell_type": "code",
   "execution_count": 19,
   "metadata": {
    "colab": {},
    "colab_type": "code",
    "id": "7AVoe1Mswjni"
   },
   "outputs": [],
   "source": [
    "def eval_model_reg2(X, y, iterations, alpha=1e-4, lambda_=1e-8):\n",
    "    W = np.random.randn(X.shape[0])\n",
    "    n = X.shape[1]\n",
    "    for i in range(1, iterations+1):\n",
    "        y_pred = np.dot(W, X)\n",
    "        err = calc_mse(y, y_pred)\n",
    "        W -= alpha * (1/n * 2 * np.dot((y_pred - y), X.T) + lambda_ * W)\n",
    "        \n",
    "        if i % (iterations / 10) == 0:\n",
    "            pass\n",
    "#             print(i, W, err)\n",
    "    return W"
   ]
  },
  {
   "cell_type": "code",
   "execution_count": 20,
   "metadata": {
    "colab": {
     "base_uri": "https://localhost:8080/",
     "height": 207
    },
    "colab_type": "code",
    "id": "vLJL6j8Lw6OA",
    "outputId": "dac9ef42-5966-4404-9346-aeb18cca83c6",
    "scrolled": true
   },
   "outputs": [
    {
     "name": "stdout",
     "output_type": "stream",
     "text": [
      "Wall time: 225 ms\n"
     ]
    },
    {
     "data": {
      "text/plain": [
       "array([49.80471699,  2.23092906, -0.35970167,  6.56909925])"
      ]
     },
     "execution_count": 20,
     "metadata": {},
     "output_type": "execute_result"
    }
   ],
   "source": [
    "%%time\n",
    "eval_model_reg2(X_st, y, iterations=5000, alpha=1e-2, lambda_=1e-4)"
   ]
  },
  {
   "cell_type": "code",
   "execution_count": 21,
   "metadata": {
    "colab": {
     "base_uri": "https://localhost:8080/",
     "height": 207
    },
    "colab_type": "code",
    "id": "4nsYMAGjmFlB",
    "outputId": "8959a8af-3d27-42a6-afae-5db46c794fe1"
   },
   "outputs": [
    {
     "name": "stdout",
     "output_type": "stream",
     "text": [
      "500 [44.89665411  3.5340759  -2.85508454  5.77177809] 31.29757890646664\n",
      "1000 [49.11630138  2.41848239 -1.12598347  6.86688523] 25.06682876536203\n",
      "1500 [49.68536967  2.26499201 -0.62046025  6.7460932 ] 24.91713516013481\n",
      "2000 [49.78184273  2.23803235 -0.45065593  6.64270176] 24.906158942510732\n",
      "2500 [49.80429004  2.23152877 -0.39048368  6.59827481] 24.904821284754476\n",
      "3000 [49.81100983  2.22954059 -0.36877216  6.58132911] 24.904645660986823\n",
      "3500 [49.81328936  2.2288604  -0.36089245  6.57507338] 24.904622423574615\n",
      "4000 [49.81409992  2.22861784 -0.35802742  6.57278669] 24.904619346578635\n",
      "4500 [49.81439271  2.22853013 -0.3569851   6.57195339] 24.904618939105266\n",
      "5000 [49.81449901  2.22849828 -0.35660582  6.57165001] 24.904618885144917\n",
      "Wall time: 250 ms\n"
     ]
    },
    {
     "data": {
      "text/plain": [
       "array([49.81449901,  2.22849828, -0.35660582,  6.57165001])"
      ]
     },
     "execution_count": 21,
     "metadata": {},
     "output_type": "execute_result"
    }
   ],
   "source": [
    "%%time\n",
    "eval_model(X_st, y, iterations=5000, alpha=1e-2)"
   ]
  },
  {
   "cell_type": "markdown",
   "metadata": {},
   "source": [
    "## <left>График зависимости весов признаков от lambda с учетом L2-регуляризации<a class=\"anchor\" id=\"l2\"></a><left>"
   ]
  },
  {
   "cell_type": "code",
   "execution_count": 23,
   "metadata": {},
   "outputs": [],
   "source": [
    "lambdas = np.linspace(1e-4, 50, 100)\n",
    "y_dat = []\n",
    "for i in range(len(lambdas)):\n",
    "    y_dat.append(eval_model_reg2(X_st, y, iterations=1000, alpha=1e-2, lambda_=lambdas[i]))"
   ]
  },
  {
   "cell_type": "code",
   "execution_count": 27,
   "metadata": {
    "scrolled": false
   },
   "outputs": [
    {
     "data": {
      "image/png": "[encoded data removed]",
      "text/plain": [
       "<Figure size 1152x432 with 1 Axes>"
      ]
     },
     "metadata": {
      "needs_background": "light"
     },
     "output_type": "display_data"
    }
   ],
   "source": [
    "plt.figure(figsize=(16, 6))\n",
    "plt.xlabel('lambda', fontsize=14)\n",
    "plt.ylabel('Веса', fontsize=14)\n",
    "plt.plot(lambdas, y_dat)\n",
    "# plt.yscale('log')\n",
    "# plt.xscale('log')\n",
    "plt.show()"
   ]
  },
  {
   "cell_type": "code",
   "execution_count": 39,
   "metadata": {},
   "outputs": [
    {
     "data": {
      "text/plain": [
       "[<matplotlib.lines.Line2D at 0x245c1cddd68>]"
      ]
     },
     "execution_count": 39,
     "metadata": {},
     "output_type": "execute_result"
    },
    {
     "data": {
      "image/png": "[encoded data removed]",
      "text/plain": [
       "<Figure size 432x288 with 4 Axes>"
      ]
     },
     "metadata": {
      "needs_background": "light"
     },
     "output_type": "display_data"
    }
   ],
   "source": [
    "fig, axes = plt.subplots(2, 2, subplot_kw=dict(polar=False))\n",
    "axes[0, 0].plot(lambdas, [y[0] for y in y_dat])\n",
    "axes[0, 1].plot(lambdas, [y[1] for y in y_dat])\n",
    "axes[1, 0].plot(lambdas, [y[2] for y in y_dat])\n",
    "axes[1, 1].plot(lambdas, [y[3] for y in y_dat])"
   ]
  },
  {
   "cell_type": "markdown",
   "metadata": {},
   "source": [
    "## <left>Проблема совместного использования нормализации и стандартизации<a class=\"anchor\" id=\"nstprob\"></a><left>"
   ]
  },
  {
   "cell_type": "markdown",
   "metadata": {},
   "source": [
    "Использование нормализации и стандартизации вместе не имеет практического смысла. Исходя из основных свойств этих приемов масшабирования результатом `нормализациии` является сужение диапазона номинальных признаков от 0 до 1. После `стандартизации` данных, каждый признак будет иметь среднее 0 и дисперсию 1.\n",
    "\n",
    "В итоге признаки будут отмасштабированы в диапазоне, соответствующем выводу последнего примененного метода масштабирования.\n",
    "Докажем это:"
   ]
  },
  {
   "cell_type": "code",
   "execution_count": 501,
   "metadata": {},
   "outputs": [
    {
     "name": "stdout",
     "output_type": "stream",
     "text": [
      "\n",
      "Нормализация - min: 0.0, max: 1.0, std: 0.31, mean: 0.34\n",
      "Стандартизация - min: -1.08, max: 2.11, std: 1.0, mean: -0.0\n",
      "Нормализация-Стандартизация - min: -1.08, max: 2.11, std: 1.0, mean: -0.0\n",
      "Стандартизация-Нормализация - min: 0.0, max: 1.0, std: 0.31, mean: 0.34\n",
      "\n"
     ]
    }
   ],
   "source": [
    "# Используем один признак датасета X\n",
    "Xtest = X[2]\n",
    "\n",
    "# Применим операцию нормализации\n",
    "xn = (Xtest - Xtest.min()) / (Xtest.max() - Xtest.min())\n",
    "\n",
    "# Отдельно применим стандартизацию\n",
    "xst = calc_std_fit(Xtest)\n",
    "\n",
    "# К уже нормализованным данным применим стандартизацию, а к стандартизованным - нормализацию\n",
    "x_n_st = calc_std_fit(xn)\n",
    "x_st_n = (xst - xst.min()) / (xst.max() - xst.min())\n",
    "\n",
    "print(f\"\"\"\n",
    "Нормализация - min: {xn.min()}, max: {xn.max()}, std: {round(xn.std(), 2)}, mean: {round(xn.mean(),2)}\n",
    "Стандартизация - min: {round(xst.min(),2)}, max: {round(xst.max(),2)}, std: {round(xst.std(), 2)}, mean: {round(xst.mean(),2)}\n",
    "Нормализация-Стандартизация - min: {round(x_n_st.min(),2)}, max: {round(x_n_st.max(),2)}, std: {round(x_n_st.std(), 2)}, mean: {round(x_n_st.mean(),2)}\n",
    "Стандартизация-Нормализация - min: {x_st_n.min()}, max: {x_st_n.max()}, std: {round(x_st_n.std(), 2)}, mean: {round(x_st_n.mean(),2)}\n",
    "\"\"\")"
   ]
  },
  {
   "cell_type": "markdown",
   "metadata": {},
   "source": [
    "## <left>Градиентный спуск с L1 (Ridge) регуляризацией<a class=\"anchor\" id=\"l1\"></a><left>"
   ]
  },
  {
   "cell_type": "markdown",
   "metadata": {
    "colab": {},
    "colab_type": "code",
    "id": "DYTxT_6OrZpe"
   },
   "source": [
    "L1 регуляризация"
   ]
  },
  {
   "cell_type": "raw",
   "metadata": {
    "colab": {},
    "colab_type": "code",
    "id": "Ojkn7xKrsyiw"
   },
   "source": [
    "f(x, W) + (lambda_/2) * np.sum(np.abs(W))"
   ]
  },
  {
   "cell_type": "markdown",
   "metadata": {
    "colab": {},
    "colab_type": "code",
    "id": "j38vId7Hvtg0"
   },
   "source": [
    "L2 регуляризация"
   ]
  },
  {
   "cell_type": "raw",
   "metadata": {
    "colab": {},
    "colab_type": "code",
    "id": "KO5BtZ7svv4k"
   },
   "source": [
    "f(x, W) + (lambda_/2) * np.sum(W**2)"
   ]
  },
  {
   "cell_type": "code",
   "execution_count": 28,
   "metadata": {},
   "outputs": [],
   "source": [
    "def eval_model_reg1(X, y, iterations, alpha=1e-4, lambda_=1e-8):\n",
    "    W = np.random.randn(X.shape[0])\n",
    "    n = X.shape[1]\n",
    "    for i in range(1, iterations+1):\n",
    "        y_pred = np.dot(W, X)\n",
    "        err = calc_mse(y, y_pred)\n",
    "        W -= alpha * (1/n * 2 * np.dot((y_pred - y), X.T) + lambda_ * np.sign(W))\n",
    "        \n",
    "        if i % (iterations / 10) == 0:\n",
    "            pass\n",
    "#             print(i, W, err)\n",
    "    return W"
   ]
  },
  {
   "cell_type": "code",
   "execution_count": 29,
   "metadata": {},
   "outputs": [
    {
     "data": {
      "text/plain": [
       "array([49.81444396,  2.22850055, -0.35609922,  6.57113896])"
      ]
     },
     "execution_count": 29,
     "metadata": {},
     "output_type": "execute_result"
    }
   ],
   "source": [
    "eval_model_reg1(X_st, y, iterations=5000, alpha=1e-2, lambda_=1e-4)"
   ]
  },
  {
   "cell_type": "code",
   "execution_count": 30,
   "metadata": {},
   "outputs": [
    {
     "data": {
      "text/plain": [
       "array([49.80471483,  2.23092971, -0.35970939,  6.56910542])"
      ]
     },
     "execution_count": 30,
     "metadata": {},
     "output_type": "execute_result"
    }
   ],
   "source": [
    "eval_model_reg2(X_st, y, iterations=5000, alpha=1e-2, lambda_=1e-4)"
   ]
  }
 ],
 "metadata": {
  "kernelspec": {
   "display_name": "Python 3",
   "language": "python",
   "name": "python3"
  },
  "language_info": {
   "codemirror_mode": {
    "name": "ipython",
    "version": 3
   },
   "file_extension": ".py",
   "mimetype": "text/x-python",
   "name": "python",
   "nbconvert_exporter": "python",
   "pygments_lexer": "ipython3",
   "version": "3.7.1"
  }
 },
 "nbformat": 4,
 "nbformat_minor": 2
}
